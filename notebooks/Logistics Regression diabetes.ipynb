{
 "cells": [
  {
   "cell_type": "code",
   "execution_count": null,
   "metadata": {
    "executionInfo": {
     "elapsed": 96,
     "status": "ok",
     "timestamp": 1744631620417,
     "user": {
      "displayName": "Gaurav Kumar",
      "userId": "15398718046789209176"
     },
     "user_tz": -330
    },
    "id": "yBzupT_E94vv"
   },
   "outputs": [],
   "source": [
    "import numpy as np\n",
    "import pandas as pd\n",
    "import matplotlib.pyplot as plt\n",
    "from sklearn.impute import SimpleImputer\n",
    "from sklearn.model_selection import train_test_split\n",
    "from sklearn.preprocessing import StandardScaler, PolynomialFeatures\n",
    "from sklearn.metrics import confusion_matrix, ConfusionMatrixDisplay, accuracy_score\n",
    "from sklearn.linear_model import LogisticRegression\n",
    "from sklearn.pipeline import Pipeline"
   ]
  },
  {
   "cell_type": "code",
   "execution_count": 37,
   "metadata": {
    "executionInfo": {
     "elapsed": 96,
     "status": "ok",
     "timestamp": 1744631766004,
     "user": {
      "displayName": "Gaurav Kumar",
      "userId": "15398718046789209176"
     },
     "user_tz": -330
    },
    "id": "UjSUk0XX-xc_"
   },
   "outputs": [],
   "source": [
    "df = pd.read_csv('/content/sample_data/diabetes.csv')"
   ]
  },
  {
   "cell_type": "code",
   "execution_count": 38,
   "metadata": {
    "colab": {
     "base_uri": "https://localhost:8080/"
    },
    "executionInfo": {
     "elapsed": 45,
     "status": "ok",
     "timestamp": 1744631766501,
     "user": {
      "displayName": "Gaurav Kumar",
      "userId": "15398718046789209176"
     },
     "user_tz": -330
    },
    "id": "sNjEVTWd-4ma",
    "outputId": "3793f7df-c2ab-40c8-942a-3cb20dbb4774"
   },
   "outputs": [
    {
     "name": "stdout",
     "output_type": "stream",
     "text": [
      "   Pregnancies  Glucose  BloodPressure  ...  DiabetesPedigreeFunction  Age  Outcome\n",
      "0            6      148             72  ...                     0.627   50        1\n",
      "1            1       85             66  ...                     0.351   31        0\n",
      "2            8      183             64  ...                     0.672   32        1\n",
      "3            1       89             66  ...                     0.167   21        0\n",
      "4            0      137             40  ...                     2.288   33        1\n",
      "\n",
      "[5 rows x 9 columns]\n",
      "<class 'pandas.core.frame.DataFrame'>\n",
      "RangeIndex: 768 entries, 0 to 767\n",
      "Data columns (total 9 columns):\n",
      " #   Column                    Non-Null Count  Dtype  \n",
      "---  ------                    --------------  -----  \n",
      " 0   Pregnancies               768 non-null    int64  \n",
      " 1   Glucose                   768 non-null    int64  \n",
      " 2   BloodPressure             768 non-null    int64  \n",
      " 3   SkinThickness             768 non-null    int64  \n",
      " 4   Insulin                   768 non-null    int64  \n",
      " 5   BMI                       768 non-null    float64\n",
      " 6   DiabetesPedigreeFunction  768 non-null    float64\n",
      " 7   Age                       768 non-null    int64  \n",
      " 8   Outcome                   768 non-null    int64  \n",
      "dtypes: float64(2), int64(7)\n",
      "memory usage: 54.1 KB\n",
      "None\n"
     ]
    }
   ],
   "source": [
    "print(df.head())\n",
    "print(df.info())\n",
    "# print(df.describe())\n",
    "# print(df.isnull().sum())\n"
   ]
  },
  {
   "cell_type": "code",
   "execution_count": 39,
   "metadata": {
    "executionInfo": {
     "elapsed": 69,
     "status": "ok",
     "timestamp": 1744631769714,
     "user": {
      "displayName": "Gaurav Kumar",
      "userId": "15398718046789209176"
     },
     "user_tz": -330
    },
    "id": "nClBzPLR_li7"
   },
   "outputs": [],
   "source": [
    "# Replace 0s with np.nan in specific columns\n",
    "\n",
    "def handle_missing_values():\n",
    "  cols_with_zeros = ['Glucose', 'BloodPressure', 'SkinThickness', 'Insulin', 'BMI']\n",
    "  df[cols_with_zeros] = df[cols_with_zeros].replace(0, np.nan)\n",
    "  imputer = SimpleImputer(missing_values=np.nan, strategy='mean')\n",
    "  df[cols_with_zeros] = imputer.fit_transform(df[cols_with_zeros])"
   ]
  },
  {
   "cell_type": "code",
   "execution_count": 40,
   "metadata": {
    "executionInfo": {
     "elapsed": 9,
     "status": "ok",
     "timestamp": 1744631770452,
     "user": {
      "displayName": "Gaurav Kumar",
      "userId": "15398718046789209176"
     },
     "user_tz": -330
    },
    "id": "7u2vVG7qCYFy"
   },
   "outputs": [],
   "source": [
    "handle_missing_values()"
   ]
  },
  {
   "cell_type": "code",
   "execution_count": 54,
   "metadata": {
    "executionInfo": {
     "elapsed": 65,
     "status": "ok",
     "timestamp": 1744631912106,
     "user": {
      "displayName": "Gaurav Kumar",
      "userId": "15398718046789209176"
     },
     "user_tz": -330
    },
    "id": "7d-CYx3tDVNN"
   },
   "outputs": [],
   "source": [
    "x = df.drop(columns=['Outcome'])\n",
    "x_features = np.array([(col) for col in x.columns])\n",
    "X = x.to_numpy()\n",
    "y = df[\"Outcome\"]\n",
    "y = y.to_numpy()\n",
    "X_train, X_test, y_train, y_test = train_test_split(X, y, test_size=0.15, random_state=42)\n",
    "# print(X.shape)\n",
    "# print(y.shape)"
   ]
  },
  {
   "cell_type": "code",
   "execution_count": null,
   "metadata": {
    "id": "LEjJbmBKEpBU"
   },
   "outputs": [],
   "source": [
    "fig, ax = plt.subplots(4,2, figsize=(30, 15))\n",
    "ax = ax.flatten()\n",
    "for i in range(len(ax)):\n",
    "  ax[i].scatter(X_train[:,i], y_train)\n",
    "  ax[i].set_ylabel(\"Outcome\")\n",
    "  ax[i].set_xlabel(x_features[i])\n",
    "plt.show()\n"
   ]
  },
  {
   "cell_type": "code",
   "execution_count": 55,
   "metadata": {
    "executionInfo": {
     "elapsed": 59,
     "status": "ok",
     "timestamp": 1744631915819,
     "user": {
      "displayName": "Gaurav Kumar",
      "userId": "15398718046789209176"
     },
     "user_tz": -330
    },
    "id": "QvoscFyXFoYm"
   },
   "outputs": [],
   "source": [
    "def normalizing_data():\n",
    "  scaler = StandardScaler()\n",
    "  x_norm = scaler.fit_transform(X_train)\n",
    "  x_test_norm = scaler.fit_transform(X_test)\n",
    "  print(f\"peak to peak range by column  x:{np.ptp(X_train, axis=0)}\")\n",
    "  print(f\"peak to peak range by column in normalization  x:{np.ptp(x_norm, axis=0)}\")\n",
    "  print(x_test_norm.shape)\n",
    "  print(x_test_norm[0])\n",
    "  return x_norm, x_test_norm, scaler\n",
    "\n",
    "# x_norm, x_test_norm, scaler= normalizing_data()\n"
   ]
  },
  {
   "cell_type": "code",
   "execution_count": null,
   "metadata": {
    "executionInfo": {
     "elapsed": 9,
     "status": "ok",
     "timestamp": 1744631892822,
     "user": {
      "displayName": "Gaurav Kumar",
      "userId": "15398718046789209176"
     },
     "user_tz": -330
    },
    "id": "HWlN2OTIIIhi"
   },
   "outputs": [],
   "source": [
    "def training_model(X_train, y_train):\n",
    "  pipe = Pipeline([\n",
    "    ('scaler', StandardScaler()),\n",
    "    (\"lr_model\", LogisticRegression())\n",
    "  ])\n",
    "  pipe.fit(X_train, y_train)\n",
    "  return pipe\n",
    "lr_model = training_model(X_train, y_train)"
   ]
  },
  {
   "cell_type": "code",
   "execution_count": null,
   "metadata": {
    "executionInfo": {
     "elapsed": 58,
     "status": "ok",
     "timestamp": 1744630977471,
     "user": {
      "displayName": "Gaurav Kumar",
      "userId": "15398718046789209176"
     },
     "user_tz": -330
    },
    "id": "06QfBZIsc0Dk"
   },
   "outputs": [],
   "source": []
  },
  {
   "cell_type": "code",
   "execution_count": 59,
   "metadata": {
    "colab": {
     "base_uri": "https://localhost:8080/"
    },
    "executionInfo": {
     "elapsed": 110,
     "status": "ok",
     "timestamp": 1744633461279,
     "user": {
      "displayName": "Gaurav Kumar",
      "userId": "15398718046789209176"
     },
     "user_tz": -330
    },
    "id": "czV8WjrCIMRz",
    "outputId": "d3622ebb-7380-4784-87fb-81ad55f8fcf3"
   },
   "outputs": [
    {
     "name": "stdout",
     "output_type": "stream",
     "text": [
      "[  3.         162.          52.          38.         155.54822335\n",
      "  37.2          0.652       24.        ]\n",
      "Prediction on training set: [1 0 0 0 0 0 0 0]\n",
      "actual value of training set: [1 0 0 0 0 0 1 0]\n",
      "[0]\n"
     ]
    }
   ],
   "source": [
    "y_pred = lr_model.predict(X_train)\n",
    "print(X_train[0])\n",
    "print(\"Prediction on training set:\", y_pred[:8])\n",
    "print(\"actual value of training set:\", y_train[:8])\n",
    "y_test_pred = lr_model.predict(X_test)\n",
    "pred = lr_model.predict([[  1.,    139.  ,   46.   ,  19.,     83.   ,  28.7    , 0.654  ,22.   ]])\n",
    "print(pred)"
   ]
  },
  {
   "cell_type": "code",
   "execution_count": null,
   "metadata": {
    "id": "I-HrxcLoKJ9q"
   },
   "outputs": [],
   "source": [
    "cm = confusion_matrix(y_train, y_pred)\n",
    "disp = ConfusionMatrixDisplay(confusion_matrix=cm, display_labels=['No Diabetes', 'Diabetes'])\n",
    "disp.plot(cmap='Blues')"
   ]
  },
  {
   "cell_type": "code",
   "execution_count": 57,
   "metadata": {
    "colab": {
     "base_uri": "https://localhost:8080/"
    },
    "executionInfo": {
     "elapsed": 52,
     "status": "ok",
     "timestamp": 1744631920571,
     "user": {
      "displayName": "Gaurav Kumar",
      "userId": "15398718046789209176"
     },
     "user_tz": -330
    },
    "id": "tQbmyjiPM9jL",
    "outputId": "4dd962f6-a8d8-4839-89df-e9f834a1f198"
   },
   "outputs": [
    {
     "name": "stdout",
     "output_type": "stream",
     "text": [
      "0.7760736196319018\n",
      "0.7586206896551724\n"
     ]
    }
   ],
   "source": [
    "x_train_accuracy = accuracy_score(y_train, y_pred)\n",
    "print(x_train_accuracy)\n",
    "x_test_accuracy = accuracy_score(y_test_pred, y_test)\n",
    "print(x_test_accuracy)"
   ]
  },
  {
   "cell_type": "code",
   "execution_count": null,
   "metadata": {
    "id": "eL_Ent3BSCxk"
   },
   "outputs": [],
   "source": [
    "cm = confusion_matrix(y_test_pred, y_test)\n",
    "disp = ConfusionMatrixDisplay(confusion_matrix=cm, display_labels=['No Diabetes', 'Diabetes'])\n",
    "disp.plot(cmap='Blues')\n"
   ]
  },
  {
   "cell_type": "code",
   "execution_count": 58,
   "metadata": {
    "executionInfo": {
     "elapsed": 18,
     "status": "ok",
     "timestamp": 1744631944410,
     "user": {
      "displayName": "Gaurav Kumar",
      "userId": "15398718046789209176"
     },
     "user_tz": -330
    },
    "id": "FqHyl0iKiPmI"
   },
   "outputs": [],
   "source": [
    "import pickle\n",
    "with open('trained_diabetes-0.1.0.pkl', 'wb') as f:\n",
    "  pickle.dump(lr_model, f)"
   ]
  }
 ],
 "metadata": {
  "colab": {
   "authorship_tag": "ABX9TyPIY/6CCm/Fffs3nFERPypU",
   "provenance": []
  },
  "kernelspec": {
   "display_name": "Python 3",
   "name": "python3"
  },
  "language_info": {
   "name": "python"
  }
 },
 "nbformat": 4,
 "nbformat_minor": 0
}
